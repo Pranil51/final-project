{
 "cells": [
  {
   "cell_type": "raw",
   "id": "9ba87ae7",
   "metadata": {},
   "source": []
  },
  {
   "cell_type": "code",
   "execution_count": 28,
   "id": "25c16a2e",
   "metadata": {},
   "outputs": [],
   "source": [
    "class Restaurant():\n",
    "    def __init__(self):\n",
    "        self.food_stock={}\n",
    "        self.food_id={}\n",
    "        self.ordered_items=[]\n",
    "        self.personal_details={}\n",
    "#admin functons:\n",
    "    def add_food_items(self):\n",
    "        self.name=input(\"Enter the food item name you want to add : \")\n",
    "        self.quantity=input(\"Enter the quantity of %s : \"%(self.name))\n",
    "        self.price=input(\"Enter price of %s per %s : \"%(self.name, self.quantity))\n",
    "        self.discount=input(\"Enter discount on %s: \"%(self.name))\n",
    "        self.stock=input(\"Enter the %s stock that you want to add: \"%(self.name))\n",
    "        self.food_id=len(self.food_stock)+1\n",
    "        self.food_stock[self.food_id]={\"Name\":self.name, \"Quantity\":self.quantity,\"Price\": self.price, \"Stock\": self.stock }\n",
    "        print(\"%s added successfully. its food id is %s\"%(self.name, self.food_id))\n",
    "    def update_food_items(self):\n",
    "        f_id=int(input(\"Enter food id of food item that you to update\\ninput 0 to cancel update:\\n \"))\n",
    "        print(self.food_stock[f_id])\n",
    "        if f_id in self.food_stock:\n",
    "            for i in self.food_stock[f_id]:\n",
    "                if i==\"Name\":\n",
    "                    pass\n",
    "                else:\n",
    "                    self.food_stock[f_id][i]=input(\"Enter the you \"+i+ \" want to update:\")\n",
    "                    return \"update successfull\"\n",
    "        elif f_id==0:\n",
    "            print(\"process cancelled\")\n",
    "        else:\n",
    "            print(\"Enter Valid food id\")\n",
    "            return\n",
    "    def show_list_of_items(self):\n",
    "        if self.food_stock=={}:\n",
    "            print(\"No items in stock\")\n",
    "        else:    \n",
    "            for i in self.food_stock:\n",
    "                print(\"\\nfood id:\", i,\"\\n\")\n",
    "                for j in self.food_stock[i]:\n",
    "                    print(j, \":\" ,self.food_stock[i][j])\n",
    "    def delete_food_item(self):\n",
    "        print(self.food_stock.items())\n",
    "        f_id=int(input(\"Enter food id of item to delete it:\\ninput 0 to cancel removing:\\n\"))\n",
    "        if f_id in self.food_stock:\n",
    "            del self.food_stock[1]\n",
    "            print(\"process successful\")\n",
    "        elif f_id==0:\n",
    "            print(\"process cancelled\")\n",
    "        else:\n",
    "            print(\"food id doesnt exist\")\n",
    "            return\n",
    "#user functionality:\n",
    "    def register_user(self):\n",
    "        print(\"registration\")\n",
    "        self.username= input(\"Enter your name: \")\n",
    "        self.number=(input(\"Enter your mobile number: \"))\n",
    "        self.email=input(\"Enter your email: \")     \n",
    "        self.address=input(\"Enter your address: \")\n",
    "        self.password=input(\"Set your password: \")\n",
    "        self.user_id=(\"User\"+str(len(self.personal_details) + 1))\n",
    "        self.personal_details[self.user_id]= {\"Username\":self.username,\"Mobile Number\": self.number,\"Email\":self.email,\"Address\":self.address, \"Password\":self.password}\n",
    "        print(\"Thank you for registering %s. Your user id is %s\"%(self.username,self.user_id))\n",
    "    def login_user(self):        \n",
    "        print(\"Login to your account\")        \n",
    "        email=str(input(\"Enter your email to login: \"))\n",
    "        password=input(\"Enter your password: \")\n",
    "        if len(self.personal_details.values())!=0:\n",
    "            for l in self.personal_details:\n",
    "                if (email== self.personal_details[l][\"Email\"]):\n",
    "                    if (password==self.personal_details[l][\"Password\"]):                     \n",
    "                        print(\"login succesfull\")\n",
    "                        break\n",
    "                    else:\n",
    "                        print(\"password incorrect. Try again\")                        \n",
    "                        return\n",
    "                else:\n",
    "                    print(\"user id incorrect. try again\")                    \n",
    "                    return                                   \n",
    "        else:   \n",
    "            print(\"No user data available\")\n",
    "            return\n",
    "        while True:\n",
    "            print(\"\\nHomepage\\n\\nselect from the below options\")\n",
    "            print(\"\\n1. Place New Order\\n\\n2. Order History\\n\\n3. Update Profile\\n\\n4. Cancel\")\n",
    "            a=(input(\"\\nEnter Your Choice: \"))        \n",
    "            if a==\"1\":\n",
    "                self.place_order()\n",
    "            elif a==\"2\":\n",
    "                self.show_order_history()\n",
    "            elif a==\"3\":\n",
    "                self.update_user_profile()\n",
    "            elif a==\"4\":\n",
    "                break\n",
    "            else:\n",
    "                print(\"\\nNot valid option\\n\\ntry again\")            \n",
    "    def place_order(self):        \n",
    "        \n",
    "        if self.food_stock!={}:\n",
    "            print(\"select item you want to order\\n\")\n",
    "            for i in self.food_stock:                            \n",
    "                print(\"%s. %s(%s)(%s)\"%(i, self.food_stock[i][\"Name\"], self.food_stock[i][\"Quantity\"], self.food_stock[i][\"Price\"]))\n",
    "                                    \n",
    "            print(\"\\nConfirm Login\\n\")\n",
    "            email=str(input(\"Enter your email to login: \"))\n",
    "            password=input(\"Enter your password: \")\n",
    "            if len(self.personal_details.values())!=0:\n",
    "                for l in self.personal_details:\n",
    "                    if (email== self.personal_details[l][\"Email\"]):\n",
    "                        if (password==self.personal_details[l][\"Password\"]):                     \n",
    "                            print(\"login succesfull\")\n",
    "                            while True:                    \n",
    "                                a=input(\"\\nEnter food items you want to order\\nFor multiple orders, Enter choice number seperated by comma(,)\\n Enter 0 to cancel: \")                                                              \n",
    "                                x=a.split(\",\")\n",
    "                                print(x)\n",
    "                                for k in x:                                \n",
    "                                    for i in self.food_stock: \n",
    "                                        if int(k)==0:\n",
    "                                            return \"cancelled\"\n",
    "\n",
    "                                        elif int(k)== int(i):\n",
    "                                            if (self.food_stock[i][\"Stock\"])!=\"0\":\n",
    "                                                print(\"\\nDo you want to place order for %s(%s)(%s)\\nEnter 1 to continue\\nEnter 0 to cancel\\n1\"%(self.food_stock[i][\"Name\"], self.food_stock[i][\"Quantity\"], self.food_stock[i][\"Price\"]))\n",
    "                                                z=input(\"Enter above choice: \")\n",
    "                                                if z==\"1\":                                                                                                \n",
    "                                                    self.ordered_items.append([l, self.food_stock[i][\"Name\"],self.food_stock[i][\"Quantity\"],self.food_stock[i][\"Price\"]])\n",
    "                                                    for m in self.ordered_items:\n",
    "                                                            if m[0]==l:\n",
    "                                                                print(\"\\nOrder details are:\\n\", m)\n",
    "                                                                print(\"\\nOrder Successful\\n\")\n",
    "                                                    break           \n",
    "                                                elif z==\"0\":\n",
    "                                                    return \"Order Cancelled.\"\n",
    "                                                else:\n",
    "                                                    print(\"invalid choice. Try again\")\n",
    "                                            else:\n",
    "                                                print(\"%s is out of stock. Choose another item\"%(self.food_stock[i][\"Name\"]))\n",
    "                                        else:\n",
    "                                            print(\"%s is invalid input\"%k)\n",
    "\n",
    "                        else:\n",
    "                            print(\"password incorrect. Try again\")                        \n",
    "                            return\n",
    "                    else:\n",
    "                        print(\"user id incorrect. try again\")                    \n",
    "                        return                                               \n",
    "            else:                                                        \n",
    "                print(\"No user data available\") \n",
    "                return                                                                                              \n",
    "        else:\n",
    "            print(\"Sorry! We are out of stock. Please Try later\")\n",
    "    def show_order_history(self):\n",
    "        if self.personal_details!={}:\n",
    "            print(\"\\nConfirm Login\\n\")\n",
    "            email=str(input(\"Enter your email to login: \"))\n",
    "            password=input(\"Enter your password: \")        \n",
    "            for l in self.personal_details:\n",
    "                if (email== self.personal_details[l][\"Email\"]):\n",
    "                    if (password==self.personal_details[l][\"Password\"]):                     \n",
    "                        print(\"login succesfull\")                        \n",
    "                        for c in self.ordered_items:\n",
    "                            if l==c[0]:\n",
    "                                print(\"Your Order History is:\\n\", c)\n",
    "                            else:\n",
    "                                print(\"You haven't Ordered any item\")\n",
    "                        \n",
    "                    else:\n",
    "                        print(\"password incorrect. Try again\")                       \n",
    "                        return\n",
    "                else:  \n",
    "                    print(\"user id incorrect. try again\")                    \n",
    "                    return                                   \n",
    "        elif self.personal_details=={}:   \n",
    "            print(\"No user data available\")\n",
    "            return\n",
    "    def update_user_profile(self):\n",
    "        print(\"\\nConfirm Login\\n\")\n",
    "        email=str(input(\"Enter your email to login: \"))\n",
    "        password=input(\"Enter your password: \")\n",
    "        if self.personal_details!={}:\n",
    "            for l in self.personal_details:         \n",
    "                if (email== self.personal_details[l][\"Email\"]):\n",
    "                    if (password==self.personal_details[l][\"Password\"]):                     \n",
    "                        print(\"login succesfull\\n\")\n",
    "                        print(self.personal_details[l])\n",
    "                           \n",
    "                        while True:\n",
    "                            print(\"\\nUpdate\\n1. Username\\n2. Mobile Number\\n3. Email\\n4. Password\\n0. Exit\")\n",
    "                            z=input(\"Enter choice from above: \")\n",
    "                            if z==\"0\":\n",
    "                                return \"update cancelled\"\n",
    "                            if z==\"1\":\n",
    "                                self.personal_details[l][\"Username\"]=input(\"New username: \")\n",
    "                                print(\"username updated to %s\"%(self.personal_details[l][\"Username\"]))\n",
    "                            if z==\"2\":\n",
    "                                self.personal_details[l][\"Mobile Number\"]=input(\"New Mobile number: \")\n",
    "                                print(\"mobile number updated to %s\"%(self.personal_details[l][\"Mobile Number\"]))\n",
    "                            if z==\"3\":\n",
    "                                self.personal_details[l][\"Email\"]=input(\"New email: \")\n",
    "                                print(\"email updated to %s\"%(self.personal_details[l][\"Email\"]))                              \n",
    "                            if z==\"4\":\n",
    "                                self.personal_details[l][\"Password\"]=input(\"New password: \")\n",
    "                                print(\"password updated to %s\"%(self.personal_details[l][\"Password\"]))\n",
    "                        print(\"Updated user info is: \", self.personal_details[l])\n",
    "                    else:\n",
    "                        print(\"password incorrect. Try again\")                        \n",
    "                        return\n",
    "                else:\n",
    "                    print(\"user id incorrect. try again\")                    \n",
    "                    return                                   \n",
    "        else:   \n",
    "            print(\"No user data available\")\n",
    "            return\n",
    "            \n",
    "            \n",
    "            \n",
    "            \n",
    "            \n",
    "            \n",
    "            \n",
    "            \n",
    "            \n",
    "            \n",
    "            \n",
    "            \n",
    "            \n",
    "            \n",
    "            \n",
    "                  \n",
    "\n",
    "x= Restaurant()\n",
    "        \n",
    "        "
   ]
  },
  {
   "cell_type": "code",
   "execution_count": 23,
   "id": "76168764",
   "metadata": {},
   "outputs": [],
   "source": []
  },
  {
   "cell_type": "code",
   "execution_count": 30,
   "id": "ffee29db",
   "metadata": {},
   "outputs": [
    {
     "name": "stdout",
     "output_type": "stream",
     "text": [
      "Enter the food item name you want to add : ad\n",
      "Enter the quantity of ad : adas\n",
      "Enter price of ad per adas : dda\n",
      "Enter discount on ad: fdsdf\n",
      "Enter the ad stock that you want to add: ds\n",
      "ad added successfully. its food id is 1\n"
     ]
    }
   ],
   "source": [
    "x.add_food_items()"
   ]
  },
  {
   "cell_type": "code",
   "execution_count": 31,
   "id": "7a43e287",
   "metadata": {},
   "outputs": [
    {
     "name": "stdout",
     "output_type": "stream",
     "text": [
      "registration\n",
      "Enter your name: s\n",
      "Enter your mobile number: s\n",
      "Enter your email: s\n",
      "Enter your address: s\n",
      "Set your password: s\n",
      "Thank you for registering s. Your user id is User1\n"
     ]
    }
   ],
   "source": [
    "x.register_user()"
   ]
  },
  {
   "cell_type": "code",
   "execution_count": 20,
   "id": "96827ec9",
   "metadata": {},
   "outputs": [
    {
     "name": "stdout",
     "output_type": "stream",
     "text": [
      "[]\n",
      "{}\n"
     ]
    }
   ],
   "source": [
    "print(x.ordered_items)\n",
    "print(x.personal_details)"
   ]
  },
  {
   "cell_type": "code",
   "execution_count": 32,
   "id": "8270f8a7",
   "metadata": {},
   "outputs": [
    {
     "name": "stdout",
     "output_type": "stream",
     "text": [
      "select item you want to order\n",
      "\n",
      "1. ad(adas)(dda)\n",
      "\n",
      "Confirm Login\n",
      "\n",
      "Enter your email to login: s\n",
      "Enter your password: s\n",
      "login succesfull\n",
      "\n",
      "Enter food items you want to order\n",
      "For multiple orders, Enter choice number seperated by comma(,)\n",
      " Enter 0 to cancel: 1\n",
      "['1']\n",
      "\n",
      "Do you want to place order for ad(adas)(dda)\n",
      "Enter 1 to continue\n",
      "Enter 0 to cancel\n",
      "1\n",
      "Enter 1. coninue\n",
      "0.cancel: 1\n",
      "\n",
      "Order details are:\n",
      " ['User1', 'ad', 'adas', 'dda']\n",
      "\n",
      "Order Successful\n",
      "\n",
      "\n",
      "Enter food items you want to order\n",
      "For multiple orders, Enter choice number seperated by comma(,)\n",
      " Enter 0 to cancel: 0\n",
      "['0']\n"
     ]
    },
    {
     "data": {
      "text/plain": [
       "'cancelled'"
      ]
     },
     "execution_count": 32,
     "metadata": {},
     "output_type": "execute_result"
    }
   ],
   "source": [
    "x.place_order()"
   ]
  },
  {
   "cell_type": "code",
   "execution_count": 33,
   "id": "79a70d0c",
   "metadata": {},
   "outputs": [
    {
     "name": "stdout",
     "output_type": "stream",
     "text": [
      "\n",
      "Confirm Login\n",
      "\n",
      "Enter your email to login: s\n",
      "Enter your password: s\n",
      "login succesfull\n",
      "Your Order History is:\n",
      " ['User1', 'ad', 'adas', 'dda']\n"
     ]
    }
   ],
   "source": [
    "x.show_order_history()"
   ]
  },
  {
   "cell_type": "code",
   "execution_count": 9,
   "id": "c7c0e541",
   "metadata": {},
   "outputs": [
    {
     "name": "stdout",
     "output_type": "stream",
     "text": [
      "[['User1', 'ad', 'sdf', 'sfg']]\n",
      "{'User1': {'Username': 's', 'Mobile Number': 's', 'Email': 's', 'Address': 's', 'Password': 's'}}\n"
     ]
    },
    {
     "ename": "TypeError",
     "evalue": "'int' object is not iterable",
     "output_type": "error",
     "traceback": [
      "\u001b[1;31m---------------------------------------------------------------------------\u001b[0m",
      "\u001b[1;31mTypeError\u001b[0m                                 Traceback (most recent call last)",
      "\u001b[1;32m~\\AppData\\Local\\Temp/ipykernel_10752/2821203716.py\u001b[0m in \u001b[0;36m<module>\u001b[1;34m\u001b[0m\n\u001b[0;32m      2\u001b[0m \u001b[0mprint\u001b[0m\u001b[1;33m(\u001b[0m\u001b[0mx\u001b[0m\u001b[1;33m.\u001b[0m\u001b[0mpersonal_details\u001b[0m\u001b[1;33m)\u001b[0m\u001b[1;33m\u001b[0m\u001b[1;33m\u001b[0m\u001b[0m\n\u001b[0;32m      3\u001b[0m \u001b[1;32mfor\u001b[0m \u001b[0ml\u001b[0m \u001b[1;32min\u001b[0m \u001b[0mx\u001b[0m\u001b[1;33m.\u001b[0m\u001b[0mpersonal_details\u001b[0m\u001b[1;33m:\u001b[0m\u001b[1;33m\u001b[0m\u001b[1;33m\u001b[0m\u001b[0m\n\u001b[1;32m----> 4\u001b[1;33m     \u001b[1;32mfor\u001b[0m \u001b[0mc\u001b[0m \u001b[1;32min\u001b[0m \u001b[0mlen\u001b[0m\u001b[1;33m(\u001b[0m\u001b[0mx\u001b[0m\u001b[1;33m.\u001b[0m\u001b[0mordered_items\u001b[0m\u001b[1;33m)\u001b[0m\u001b[1;33m:\u001b[0m\u001b[1;33m\u001b[0m\u001b[1;33m\u001b[0m\u001b[0m\n\u001b[0m\u001b[0;32m      5\u001b[0m         \u001b[1;32mif\u001b[0m \u001b[1;33m(\u001b[0m\u001b[0ml\u001b[0m\u001b[1;33m)\u001b[0m\u001b[1;33m==\u001b[0m\u001b[1;33m(\u001b[0m\u001b[0mx\u001b[0m\u001b[1;33m.\u001b[0m\u001b[0mordered_items\u001b[0m\u001b[1;33m[\u001b[0m\u001b[0mc\u001b[0m\u001b[1;33m]\u001b[0m\u001b[1;33m[\u001b[0m\u001b[1;36m0\u001b[0m\u001b[1;33m]\u001b[0m\u001b[1;33m)\u001b[0m\u001b[1;33m:\u001b[0m\u001b[1;33m\u001b[0m\u001b[1;33m\u001b[0m\u001b[0m\n\u001b[0;32m      6\u001b[0m             \u001b[0mprint\u001b[0m\u001b[1;33m(\u001b[0m\u001b[1;34m\"Your Order History is:\\n\"\u001b[0m\u001b[1;33m,\u001b[0m \u001b[0mc\u001b[0m\u001b[1;33m)\u001b[0m\u001b[1;33m\u001b[0m\u001b[1;33m\u001b[0m\u001b[0m\n",
      "\u001b[1;31mTypeError\u001b[0m: 'int' object is not iterable"
     ]
    }
   ],
   "source": [
    "print(x.ordered_items)\n",
    "print(x.personal_details)\n",
    "for l in x.personal_details:\n",
    "    for c in len(x.ordered_items):\n",
    "        if (l)==(x.ordered_items[c][0]):\n",
    "            print(\"Your Order History is:\\n\", c)\n",
    "                                "
   ]
  },
  {
   "cell_type": "code",
   "execution_count": 11,
   "id": "b0200c8c",
   "metadata": {},
   "outputs": [
    {
     "name": "stdout",
     "output_type": "stream",
     "text": [
      "[['User1', 'ad', 'sdf', 'sfg']]\n",
      "{'User1': {'Username': 's', 'Mobile Number': 's', 'Email': 's', 'Address': 's', 'Password': 's'}}\n",
      "Your Order History is:\n",
      " ['User1', 'ad', 'sdf', 'sfg']\n"
     ]
    }
   ],
   "source": [
    "print(x.ordered_items)\n",
    "print(x.personal_details)\n",
    "for l in x.personal_details:\n",
    "    for c in x.ordered_items:\n",
    "        if (l)==(c[0]):\n",
    "            print(\"Your Order History is:\\n\", c)\n",
    "        else:\n",
    "            print(\"No\")\n",
    "                                "
   ]
  },
  {
   "cell_type": "code",
   "execution_count": null,
   "id": "8545951b",
   "metadata": {},
   "outputs": [],
   "source": [
    "for c in x.ordered_items:\n",
    "    a=(c[0])\n",
    "    print(\"thank u\", c[0])\n",
    "    print(c[0])\n",
    "\n",
    "\n"
   ]
  },
  {
   "cell_type": "markdown",
   "id": "ced2ec74",
   "metadata": {},
   "source": []
  },
  {
   "cell_type": "code",
   "execution_count": null,
   "id": "af48afa8",
   "metadata": {},
   "outputs": [],
   "source": [
    "for l in x.personal_details:\n",
    "    \n",
    "    print(type(l))"
   ]
  },
  {
   "cell_type": "code",
   "execution_count": null,
   "id": "be454537",
   "metadata": {},
   "outputs": [],
   "source": [
    "x=10\n",
    "print(\"t\",x)\n"
   ]
  },
  {
   "cell_type": "code",
   "execution_count": null,
   "id": "081d3e8e",
   "metadata": {},
   "outputs": [],
   "source": []
  },
  {
   "cell_type": "code",
   "execution_count": null,
   "id": "5dfd2ee8",
   "metadata": {},
   "outputs": [],
   "source": []
  },
  {
   "cell_type": "code",
   "execution_count": null,
   "id": "e3f011f3",
   "metadata": {},
   "outputs": [],
   "source": []
  },
  {
   "cell_type": "code",
   "execution_count": null,
   "id": "42eee9d7",
   "metadata": {},
   "outputs": [],
   "source": []
  },
  {
   "cell_type": "code",
   "execution_count": null,
   "id": "01323ef5",
   "metadata": {},
   "outputs": [],
   "source": []
  },
  {
   "cell_type": "code",
   "execution_count": null,
   "id": "bfb1e8a1",
   "metadata": {},
   "outputs": [],
   "source": []
  },
  {
   "cell_type": "code",
   "execution_count": null,
   "id": "0dec4fdc",
   "metadata": {},
   "outputs": [],
   "source": []
  },
  {
   "cell_type": "code",
   "execution_count": null,
   "id": "247ad8bb",
   "metadata": {},
   "outputs": [],
   "source": []
  },
  {
   "cell_type": "code",
   "execution_count": null,
   "id": "6a183ae1",
   "metadata": {},
   "outputs": [],
   "source": []
  },
  {
   "cell_type": "code",
   "execution_count": null,
   "id": "4c70c268",
   "metadata": {},
   "outputs": [],
   "source": []
  },
  {
   "cell_type": "code",
   "execution_count": null,
   "id": "372e5772",
   "metadata": {},
   "outputs": [],
   "source": []
  },
  {
   "cell_type": "code",
   "execution_count": null,
   "id": "8c2e6511",
   "metadata": {},
   "outputs": [],
   "source": []
  },
  {
   "cell_type": "code",
   "execution_count": null,
   "id": "1734a3db",
   "metadata": {},
   "outputs": [],
   "source": []
  },
  {
   "cell_type": "code",
   "execution_count": null,
   "id": "88508ed2",
   "metadata": {},
   "outputs": [],
   "source": []
  },
  {
   "cell_type": "code",
   "execution_count": null,
   "id": "09d98e31",
   "metadata": {},
   "outputs": [],
   "source": []
  },
  {
   "cell_type": "code",
   "execution_count": null,
   "id": "1415d60e",
   "metadata": {},
   "outputs": [],
   "source": []
  },
  {
   "cell_type": "code",
   "execution_count": null,
   "id": "9e89d6c0",
   "metadata": {},
   "outputs": [],
   "source": []
  },
  {
   "cell_type": "code",
   "execution_count": null,
   "id": "1e0b9a2f",
   "metadata": {},
   "outputs": [],
   "source": []
  }
 ],
 "metadata": {
  "kernelspec": {
   "display_name": "Python 3 (ipykernel)",
   "language": "python",
   "name": "python3"
  },
  "language_info": {
   "codemirror_mode": {
    "name": "ipython",
    "version": 3
   },
   "file_extension": ".py",
   "mimetype": "text/x-python",
   "name": "python",
   "nbconvert_exporter": "python",
   "pygments_lexer": "ipython3",
   "version": "3.9.9"
  }
 },
 "nbformat": 4,
 "nbformat_minor": 5
}
